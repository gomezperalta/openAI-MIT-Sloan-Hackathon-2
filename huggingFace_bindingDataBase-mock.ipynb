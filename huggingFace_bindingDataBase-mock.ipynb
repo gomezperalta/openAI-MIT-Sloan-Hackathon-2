{
 "cells": [
  {
   "cell_type": "code",
   "execution_count": 1,
   "id": "5679b98d-a6e2-4aac-bef5-fe3646f3c251",
   "metadata": {},
   "outputs": [
    {
     "name": "stderr",
     "output_type": "stream",
     "text": [
      "Some weights of EsmModel were not initialized from the model checkpoint at facebook/esm2_t6_8M_UR50D and are newly initialized: ['pooler.dense.bias', 'pooler.dense.weight']\n",
      "You should probably TRAIN this model on a down-stream task to be able to use it for predictions and inference.\n",
      "Some weights of RobertaModel were not initialized from the model checkpoint at DeepChem/ChemBERTa-5M-MLM and are newly initialized: ['pooler.dense.bias', 'pooler.dense.weight']\n",
      "You should probably TRAIN this model on a down-stream task to be able to use it for predictions and inference.\n"
     ]
    }
   ],
   "source": [
    "import pandas as pd\n",
    "import numpy as np\n",
    "import matplotlib.pyplot as plt\n",
    "import csv\n",
    "from tqdm import tqdm\n",
    "\n",
    "import torch\n",
    "import transformers\n",
    "from transformers import BertModel, BertTokenizer\n",
    "from transformers import AutoTokenizer, AutoModel#ForMaskedLM\n",
    "\n",
    "esm_model = transformers.models.esm.EsmModel.from_pretrained(\"facebook/esm2_t6_8M_UR50D\")\n",
    "esm_tokenizer = transformers.models.esm.EsmTokenizer.from_pretrained(\"facebook/esm2_t6_8M_UR50D\", do_lower_case=False)\n",
    "\n",
    "prot_tokenizer = BertTokenizer.from_pretrained(\"Rostlab/prot_bert\", do_lower_case=False)\n",
    "prot_model = BertModel.from_pretrained(\"Rostlab/prot_bert\")\n",
    "\n",
    "smiles_tokenizer = AutoTokenizer.from_pretrained(\"DeepChem/ChemBERTa-5M-MLM\")\n",
    "smiles_model = AutoModel.from_pretrained(\"DeepChem/ChemBERTa-5M-MLM\")"
   ]
  },
  {
   "cell_type": "markdown",
   "id": "7ecb88c9-ac9f-43ad-a9b6-8488cd9d867c",
   "metadata": {},
   "source": [
    "You load some tsv-file available in Binding database. In the next cell, you work with the version `BindingDB_BindingDB_Articles_202508_tsv.zip ( 16.82 MB, updated 2025-07-28 ) md5`, which you find in the website https://www.bindingdb.org/rwd/bind/chemsearch/marvin/Download.jsp\n",
    "\n",
    "Next, we want to model the strength of the binding between a aminoacid sequence with a ligand. For that purpose, there is column in the tsv-file which corresponds to the dissociation constant of the pair ligand-aminoacid sequence. The lower the Kd, the stronger the bind between the interacting molecules. We transform the Kd to pKd values, which is the most common manner to talk about this constant in chemistry. pKd is simply defined as $-log Kd$. The Kd values are reported in nmol/L."
   ]
  },
  {
   "cell_type": "code",
   "execution_count": 2,
   "id": "d530061c-7bd2-435d-80ed-58ef655a2109",
   "metadata": {},
   "outputs": [
    {
     "name": "stderr",
     "output_type": "stream",
     "text": [
      "C:\\Users\\igofo\\AppData\\Local\\Temp\\ipykernel_3880\\3880744742.py:1: ParserWarning: Skipping line 7763: expected 103 fields, saw 172\n",
      "Skipping line 7770: expected 103 fields, saw 172\n",
      "Skipping line 7788: expected 103 fields, saw 172\n",
      "\n",
      "  df = pd.read_csv('./BindingDB_All_202508_tsv/BindingDB_BindingDB_Articles.tsv',\n",
      "C:\\Users\\igofo\\AppData\\Local\\Temp\\ipykernel_3880\\3880744742.py:1: DtypeWarning: Columns (10,11,13,15,17,20,38,50,52,53,54,55,56,57,59,60,61,62,64,65,66,67,68,69,71,72,73,74,76,77,78,79,80,81,88,89,90,91,92,93) have mixed types. Specify dtype option on import or set low_memory=False.\n",
      "  df = pd.read_csv('./BindingDB_All_202508_tsv/BindingDB_BindingDB_Articles.tsv',\n"
     ]
    }
   ],
   "source": [
    "df = pd.read_csv('./BindingDB_All_202508_tsv/BindingDB_BindingDB_Articles.tsv', \n",
    "                 sep='\\t', quoting=csv.QUOTE_NONE, on_bad_lines='warn')\n",
    "\n",
    "df = df[['Ligand SMILES', 'BindingDB Target Chain Sequence', 'Kd (nM)']].dropna()\n",
    "\n",
    "def convert_kd(cleaned):\n",
    "    try:\n",
    "\n",
    "        if cleaned:  \n",
    "            return -np.log10(float(cleaned) * 10**-9)\n",
    "        return float('nan') \n",
    "    except (ValueError, TypeError):\n",
    "        return float('nan') \n",
    "\n",
    "df['Kd (nM)'] = df['Kd (nM)'].apply(convert_kd)"
   ]
  },
  {
   "cell_type": "markdown",
   "id": "344f1071-d703-4fe2-a82f-14890b764525",
   "metadata": {},
   "source": [
    "I wish I could download a larger version of this dataset, but in the mean time I don't have access to more computing power :'( (my working server is dead)."
   ]
  },
  {
   "cell_type": "code",
   "execution_count": 3,
   "id": "ab0b37ad-49d3-4990-8157-4b3da3744823",
   "metadata": {},
   "outputs": [],
   "source": [
    "df = df.reset_index(drop=True)"
   ]
  },
  {
   "cell_type": "code",
   "execution_count": 4,
   "id": "df6caf30-4fbd-41c6-b6b9-05ceae814c1e",
   "metadata": {},
   "outputs": [],
   "source": [
    "df['len_sequence'] = df['BindingDB Target Chain Sequence'].apply(lambda x:len(x))"
   ]
  },
  {
   "cell_type": "code",
   "execution_count": 5,
   "id": "88e86604-a106-4434-8371-8b4cc99c899b",
   "metadata": {},
   "outputs": [
    {
     "data": {
      "text/plain": [
       "count    2337.000000\n",
       "mean        6.339863\n",
       "std         1.809969\n",
       "min         1.114616\n",
       "25%         4.966576\n",
       "50%         6.229148\n",
       "75%         7.698970\n",
       "max        13.327902\n",
       "Name: Kd (nM), dtype: float64"
      ]
     },
     "execution_count": 5,
     "metadata": {},
     "output_type": "execute_result"
    }
   ],
   "source": [
    "df['Kd (nM)'].describe()"
   ]
  },
  {
   "cell_type": "code",
   "execution_count": 6,
   "id": "9b637aac-33e8-4506-8ea9-51b8d2ff3308",
   "metadata": {},
   "outputs": [
    {
     "name": "stdout",
     "output_type": "stream",
     "text": [
      "640.006021678041 1282.8436154616772\n"
     ]
    },
    {
     "data": {
      "image/png": "[encoded data removed]",
      "text/plain": [
       "<Figure size 640x480 with 1 Axes>"
      ]
     },
     "metadata": {},
     "output_type": "display_data"
    }
   ],
   "source": [
    "plt.figure()\n",
    "print(df.len_sequence.mean(), df.len_sequence.std())\n",
    "plt.hist(df.len_sequence, bins=200)\n",
    "plt.show()"
   ]
  },
  {
   "cell_type": "markdown",
   "id": "3da96cf9-e2a0-4c0e-bef3-5c2066a421fa",
   "metadata": {},
   "source": [
    "One of the purpose of this challenge is to work with small sequences. In this notebook, we only work with sequences no longer than 1000 aminoacids."
   ]
  },
  {
   "cell_type": "code",
   "execution_count": 7,
   "id": "9b3d9ac9-5112-40c7-b37b-2f73461024f9",
   "metadata": {},
   "outputs": [],
   "source": [
    "df = df[df['len_sequence'] <= 1000].reset_index(drop=True)"
   ]
  },
  {
   "cell_type": "code",
   "execution_count": 8,
   "id": "bd875c30-e0de-4155-8c4e-f12f19cc42ab",
   "metadata": {},
   "outputs": [
    {
     "name": "stdout",
     "output_type": "stream",
     "text": [
      "cuda:0\n"
     ]
    }
   ],
   "source": [
    "prot_model.to('cuda')\n",
    "smiles_model.to('cuda')\n",
    "esm_model.to('cuda')\n",
    "print(prot_model.device)"
   ]
  },
  {
   "cell_type": "markdown",
   "id": "7e7ec050-2d31-45a2-942f-d296965c5ef7",
   "metadata": {},
   "source": [
    "In the next function we create the embeddings of the protein sequence and the ligand. The ligand is given in SMILES notation. For that purpose, we create embeddings using some nice transformer models available in Hugging Face. The models were uploaded in the very beginning of this notebook."
   ]
  },
  {
   "cell_type": "code",
   "execution_count": 10,
   "id": "0f706cd1-e38c-45fd-8f26-e488ebaa8deb",
   "metadata": {},
   "outputs": [],
   "source": [
    "def get_embeddings(model, tokenizer, df, batch_size=128):\n",
    "    # Ensure model is on CUDA\n",
    "    device = torch.device(\"cuda\" if torch.cuda.is_available() else \"cpu\")\n",
    "    model = model.to(device)\n",
    "    model.eval()\n",
    "    \n",
    "    # Pre-allocate memory for embeddings\n",
    "    total_samples = df.shape[0]\n",
    "    embedding_size = model.config.hidden_size  # Get embedding size from model config\n",
    "    embeddings = np.empty((total_samples, embedding_size), dtype=np.float32)\n",
    "    \n",
    "    # Process in batches\n",
    "    for batch_start in tqdm(range(0, total_samples, batch_size), desc=\"Processing batches\"):\n",
    "        batch_end = min(batch_start + batch_size, total_samples)\n",
    "        batch_texts = [' '.join([j for j in i]) for i in df[batch_start:batch_end].values]\n",
    "        \n",
    "        # Tokenize and move to CUDA\n",
    "        inputs = tokenizer(batch_texts, return_tensors=\"pt\", padding=True, truncation=True)\n",
    "        inputs = {k: v.to(device) for k, v in inputs.items()}\n",
    "        \n",
    "        # Forward pass on CUDA\n",
    "        with torch.no_grad():\n",
    "            outputs = model(**inputs)\n",
    "        \n",
    "        # Get mean embeddings and move to CPU\n",
    "        batch_embeddings = outputs.last_hidden_state.mean(dim=1).cpu().numpy()\n",
    "        embeddings[batch_start:batch_end] = batch_embeddings\n",
    "    \n",
    "    return embeddings"
   ]
  },
  {
   "cell_type": "markdown",
   "id": "cba56df6-cc81-4112-8a3d-8cd90ab85063",
   "metadata": {},
   "source": [
    "We run the function to get the mentioned embeddings."
   ]
  },
  {
   "cell_type": "code",
   "execution_count": 11,
   "id": "ace497f1-0c83-4be6-9d4c-7ae91c713bf0",
   "metadata": {},
   "outputs": [
    {
     "name": "stdout",
     "output_type": "stream",
     "text": [
      "generating esm embeddings\n"
     ]
    },
    {
     "name": "stderr",
     "output_type": "stream",
     "text": [
      "Asking to truncate to max_length but no maximum length is provided and the model has no predefined maximum length. Default to no truncation.\n",
      "Processing batches: 100%|██████████████████████████████████████████████████████████████| 97/97 [00:45<00:00,  2.14it/s]\n"
     ]
    },
    {
     "name": "stdout",
     "output_type": "stream",
     "text": [
      "generating prot embeddings\n"
     ]
    },
    {
     "name": "stderr",
     "output_type": "stream",
     "text": [
      "Asking to truncate to max_length but no maximum length is provided and the model has no predefined maximum length. Default to no truncation.\n",
      "Processing batches: 100%|██████████████████████████████████████████████████████████████| 97/97 [03:20<00:00,  2.06s/it]\n"
     ]
    },
    {
     "name": "stdout",
     "output_type": "stream",
     "text": [
      "generating smiles embeddings\n"
     ]
    },
    {
     "name": "stderr",
     "output_type": "stream",
     "text": [
      "Processing batches: 100%|██████████████████████████████████████████████████████████████| 97/97 [00:02<00:00, 39.03it/s]\n"
     ]
    }
   ],
   "source": [
    "print('generating esm embeddings')\n",
    "esm_emb = get_embeddings(model = esm_model, tokenizer = esm_tokenizer, df = df.iloc[:,1], batch_size=24)\n",
    "print('generating prot embeddings')\n",
    "prot_emb = get_embeddings(model = prot_model, tokenizer = prot_tokenizer, df = df.iloc[:,1], batch_size=24)\n",
    "print('generating smiles embeddings')\n",
    "smiles_emb = get_embeddings(model = smiles_model, tokenizer = smiles_tokenizer, df = df.iloc[:,0], batch_size=24)"
   ]
  },
  {
   "cell_type": "markdown",
   "id": "20e214ce-7826-47ec-82df-bcd31760896c",
   "metadata": {},
   "source": [
    "To get a idea of the outreach of the current embeddings, we play with with a linear regression. There are no doubts that the performance will significantly improve with a larger dataset set or a non-linear models based on deep NN."
   ]
  },
  {
   "cell_type": "code",
   "execution_count": 12,
   "id": "90dbe9ae-2264-4b05-83df-c33df48777e3",
   "metadata": {},
   "outputs": [],
   "source": [
    "import sklearn.linear_model"
   ]
  },
  {
   "cell_type": "code",
   "execution_count": 168,
   "id": "c8df8da4-74fc-4d2b-8581-e09a1189015f",
   "metadata": {},
   "outputs": [],
   "source": [
    "idxtest = np.random.choice(np.arange(df.shape[0]), int(0.2*df.shape[0]), replace=False)\n",
    "idxtraval = np.setdiff1d(np.arange(df.shape[0]), idxtest)\n",
    "\n",
    "xtest = np.concatenate((prot_emb[idxtest], smiles_emb[idxtest]), axis=-1)\n",
    "xtraval = np.concatenate((prot_emb[idxtraval], smiles_emb[idxtraval]), axis=-1)\n",
    "\n",
    "ytest = df.iloc[idxtest,2].values\n",
    "ytraval = df.iloc[idxtraval,2].values\n",
    "\n",
    "totake = np.argwhere(np.isnan(ytraval) == False)[:,0]\n",
    "testnotnan = np.argwhere(np.isnan(ytest) == False)[:,0]"
   ]
  },
  {
   "cell_type": "code",
   "execution_count": 169,
   "id": "733ba525-b42a-4be8-9363-45f71ae74440",
   "metadata": {},
   "outputs": [
    {
     "name": "stderr",
     "output_type": "stream",
     "text": [
      "C:\\Users\\igofo\\anaconda3\\envs\\hf\\Lib\\site-packages\\sklearn\\linear_model\\_coordinate_descent.py:695: ConvergenceWarning: Objective did not converge. You might want to increase the number of iterations, check the scale of the features or consider increasing regularisation. Duality gap: 1.483e+01, tolerance: 5.902e-01\n",
      "  model = cd_fast.enet_coordinate_descent(\n"
     ]
    }
   ],
   "source": [
    "lr = sklearn.linear_model.Lasso(alpha=1e-3, max_iter=3000, random_state=0)\n",
    "lr.fit(xtraval[totake], ytraval[totake])\n",
    "\n",
    "ptraval = lr.predict(xtraval)\n",
    "ptest = lr.predict(xtest)"
   ]
  },
  {
   "cell_type": "code",
   "execution_count": 170,
   "id": "f5ecf661-f378-4b3e-b997-f18b14945071",
   "metadata": {},
   "outputs": [
    {
     "name": "stdout",
     "output_type": "stream",
     "text": [
      "RMSE in test set:1.0674700001552297\n",
      "MPAE in test set:14.485031159016508\n",
      "R^2:0.6588703520076338\n"
     ]
    },
    {
     "data": {
      "image/png": "[encoded data removed]",
      "text/plain": [
       "<Figure size 640x480 with 1 Axes>"
      ]
     },
     "metadata": {},
     "output_type": "display_data"
    }
   ],
   "source": [
    "plt.figure()\n",
    "\n",
    "print(f\"RMSE in test set:{((ytest[testnotnan]-ptest[testnotnan])**2).mean()**0.5}\")\n",
    "print(f\"MPAE in test set:{(100*abs(ytest[testnotnan]-ptest[testnotnan])/ytest[testnotnan]).mean()}\")\n",
    "print(f\"R^2:{lr.score(xtest[testnotnan], ytest[testnotnan])}\")\n",
    "\n",
    "plt.scatter(ytest, ptest, s=5)\n",
    "plt.plot(np.arange(np.floor(ytest[testnotnan].min()),\n",
    "                   np.ceil(ytest[testnotnan].max())+1),\n",
    "         np.arange(np.floor(ytest[testnotnan].min()),\n",
    "                   np.ceil(ytest[testnotnan].max())+1),color='black')\n",
    "plt.grid()\n",
    "plt.xlabel('actual pKd')\n",
    "plt.ylabel('predicted pKd')\n",
    "plt.show()"
   ]
  },
  {
   "cell_type": "markdown",
   "id": "9cf45be6-85ac-4c96-8226-43409f2a677c",
   "metadata": {},
   "source": [
    "This naive linear model sketches a linear trend between the predicted pKd and the actual ones. This is a good start. Please, consider that in this linear model I implemented Lasso regression ($\\alpha$=1e-3), and that the used feature are the embeddings from the Ligand SMILE and the protein sequence."
   ]
  },
  {
   "cell_type": "code",
   "execution_count": 172,
   "id": "66bac1d1-1012-43e6-adc0-653cf713d34e",
   "metadata": {},
   "outputs": [
    {
     "data": {
      "image/png": "[encoded data removed]",
      "text/plain": [
       "<Figure size 640x480 with 1 Axes>"
      ]
     },
     "metadata": {},
     "output_type": "display_data"
    }
   ],
   "source": [
    "plt.figure()\n",
    "plt.title('Distribution of the sequence length')\n",
    "plt.hist(df.iloc[:,-1].values, bins=200)\n",
    "plt.show()"
   ]
  },
  {
   "cell_type": "code",
   "execution_count": 184,
   "id": "89d325f3-4c20-41ee-b797-7a31b48a6f05",
   "metadata": {},
   "outputs": [
    {
     "name": "stdout",
     "output_type": "stream",
     "text": [
      "Number of unique ligands in the dataset:1231\n",
      "Number of unique sequences in the dataset:1085\n"
     ]
    }
   ],
   "source": [
    "print(f\"Number of unique ligands in the dataset:{len(df['Ligand SMILES'].unique())}\")\n",
    "print(f\"Number of unique sequences in the dataset:{len(df.iloc[:,2].unique())}\")"
   ]
  },
  {
   "cell_type": "code",
   "execution_count": null,
   "id": "49085da4-fff8-419a-9982-e5a82eaf3c20",
   "metadata": {},
   "outputs": [],
   "source": []
  }
 ],
 "metadata": {
  "kernelspec": {
   "display_name": "Python 3 (ipykernel)",
   "language": "python",
   "name": "python3"
  },
  "language_info": {
   "codemirror_mode": {
    "name": "ipython",
    "version": 3
   },
   "file_extension": ".py",
   "mimetype": "text/x-python",
   "name": "python",
   "nbconvert_exporter": "python",
   "pygments_lexer": "ipython3",
   "version": "3.12.9"
  }
 },
 "nbformat": 4,
 "nbformat_minor": 5
}
